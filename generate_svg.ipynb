{
 "metadata": {
  "name": ""
 },
 "nbformat": 3,
 "nbformat_minor": 0,
 "worksheets": [
  {
   "cells": [
    {
     "cell_type": "code",
     "collapsed": false,
     "input": [
      "from IPython.display import SVG\n",
      "import json\n",
      "import svgwrite\n",
      "import glob\n",
      "from collections import defaultdict\n",
      "\n",
      "chord_definitions = glob.glob('data/guitar/chords/*.json')\n",
      "\n",
      "for chord_definition in chord_definitions:\n",
      "    chord_file = open(chord_definition)\n",
      "    chord_data = json.load(chord_file)\n",
      "\n",
      "    default_fingering = chord_data['fingerings'][0]\n",
      "\n",
      "    print chord_data['name']\n",
      "    svg_document = svgwrite.Drawing(\n",
      "        filename = \"data/guitar/chords/{}-1.svg\".format(chord_data['name']),\n",
      "        size = (\"600px\", \"800px\"))\n",
      "\n",
      "    build_chord_chart()\n",
      "    svg_document.save()\n",
      "\n",
      "def build_chord_chart():\n",
      "    \n",
      "    fret_matrix = defaultdict(list)\n",
      "    for idx, string in enumerate(default_fingering):\n",
      "        #\n",
      "        fret_matrix[string['fret']].append(idx + 1)\n",
      "    \n",
      "    \n",
      "    print \"Fret Matrix \", fret_matrix\n",
      "    frets = sorted([int(k) for k in fret_matrix.keys() if not k in ('muted', 'open')])\n",
      "    print \"Frets\", frets\n",
      "    \n",
      "    # Header\n",
      "    for muted in fret_matrix['muted']:\n",
      "        svg_document.add(svg_document.text(\"X\", insert=((6-muted) * 100, 20)))\n",
      "    for muted in fret_matrix['open']:\n",
      "        svg_document.add(svg_document.text(\"O\", insert=((6-muted) * 100, 20)))\n",
      "    \n",
      "    # Strings\n",
      "    for i in range(6):\n",
      "        svg_document.add(svg_document.line(\n",
      "            start=(i*100 + 1, 30), \n",
      "            end=(i*100 + 1, 400),\n",
      "            stroke_width = \"1\",\n",
      "            stroke = \"black\"))\n",
      "            \n",
      "    # Frets\n",
      "    for fret in range(4):\n",
      "        svg_document.add(svg_document.line(\n",
      "            start=(1, fret*100 + 30), \n",
      "            end=(500, fret*100 + 30),\n",
      "            stroke_width = \"1\",\n",
      "            stroke = \"black\"))\n",
      "        \n",
      "        # Finger markers\n",
      "        if str(fret+1) in fret_matrix:\n",
      "            for string_down in fret_matrix[str(fret+1)]:\n",
      "                print \"Fret, STring down\", fret+1, string_down\n",
      "                svg_document.add(svg_document.circle(\n",
      "                    center=((6-string_down)*100, 75 + fret * 100), r=30))\n",
      "        \n",
      "# add the header line\n",
      "#build_chord_chart()\n",
      "\n",
      "SVG(svg_document.tostring())\n"
     ],
     "language": "python",
     "metadata": {},
     "outputs": [
      {
       "output_type": "stream",
       "stream": "stdout",
       "text": [
        "A\n",
        "Fret Matrix  defaultdict(<type 'list'>, {u'muted': [6], u'2': [2, 3, 4], u'open': [1, 5]})\n",
        "Frets [2]\n",
        "Fret, STring down 2 2\n",
        "Fret, STring down 2 3\n",
        "Fret, STring down 2 4\n",
        "C\n",
        "Fret Matrix  defaultdict(<type 'list'>, {u'1': [2], u'muted': [6], u'3': [5], u'2': [4], u'open': [1, 3]})\n",
        "Frets [1, 2, 3]\n",
        "Fret, STring down 1 2\n",
        "Fret, STring down 2 4\n",
        "Fret, STring down 3 5\n"
       ]
      },
      {
       "metadata": {},
       "output_type": "pyout",
       "prompt_number": 56,
       "svg": [
        "<svg baseProfile=\"full\" height=\"800px\" version=\"1.1\" width=\"600px\" xmlns=\"http://www.w3.org/2000/svg\" xmlns:ev=\"http://www.w3.org/2001/xml-events\" xmlns:xlink=\"http://www.w3.org/1999/xlink\"><defs/><text x=\"0\" y=\"20\">X</text><text x=\"500\" y=\"20\">O</text><text x=\"300\" y=\"20\">O</text><line stroke=\"black\" stroke-width=\"1\" x1=\"1\" x2=\"1\" y1=\"30\" y2=\"400\"/><line stroke=\"black\" stroke-width=\"1\" x1=\"101\" x2=\"101\" y1=\"30\" y2=\"400\"/><line stroke=\"black\" stroke-width=\"1\" x1=\"201\" x2=\"201\" y1=\"30\" y2=\"400\"/><line stroke=\"black\" stroke-width=\"1\" x1=\"301\" x2=\"301\" y1=\"30\" y2=\"400\"/><line stroke=\"black\" stroke-width=\"1\" x1=\"401\" x2=\"401\" y1=\"30\" y2=\"400\"/><line stroke=\"black\" stroke-width=\"1\" x1=\"501\" x2=\"501\" y1=\"30\" y2=\"400\"/><line stroke=\"black\" stroke-width=\"1\" x1=\"1\" x2=\"500\" y1=\"30\" y2=\"30\"/><circle cx=\"400\" cy=\"75\" r=\"30\"/><line stroke=\"black\" stroke-width=\"1\" x1=\"1\" x2=\"500\" y1=\"130\" y2=\"130\"/><circle cx=\"200\" cy=\"175\" r=\"30\"/><line stroke=\"black\" stroke-width=\"1\" x1=\"1\" x2=\"500\" y1=\"230\" y2=\"230\"/><circle cx=\"100\" cy=\"275\" r=\"30\"/><line stroke=\"black\" stroke-width=\"1\" x1=\"1\" x2=\"500\" y1=\"330\" y2=\"330\"/></svg>"
       ],
       "text": [
        "<IPython.core.display.SVG at 0x10635f590>"
       ]
      }
     ],
     "prompt_number": 56
    },
    {
     "cell_type": "code",
     "collapsed": false,
     "input": [
      "svg_document.save()\n"
     ],
     "language": "python",
     "metadata": {},
     "outputs": [],
     "prompt_number": 45
    }
   ],
   "metadata": {}
  }
 ]
}