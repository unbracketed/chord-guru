{
 "metadata": {
  "name": ""
 },
 "nbformat": 3,
 "nbformat_minor": 0,
 "worksheets": [
  {
   "cells": [
    {
     "cell_type": "code",
     "collapsed": false,
     "input": [
      "import svgwrite\n",
      "svg_document = svgwrite.Drawing(filename = \"test-svgwrite.svg\",\n",
      "                                size = (\"800px\", \"600px\"))\n",
      "\n",
      "svg_document.add(svg_document.rect(insert = (0, 0),\n",
      "                                   size = (\"200px\", \"100px\"),\n",
      "                                   stroke_width = \"1\",\n",
      "                                   stroke = \"black\",\n",
      "                                   fill = \"rgb(255,255,0)\"))\n",
      "\n",
      "svg_document.add(svg_document.text(\"Hello World\",\n",
      "                                   insert = (210, 110)))\n",
      "\n",
      "print(svg_document.tostring())"
     ],
     "language": "python",
     "metadata": {},
     "outputs": [
      {
       "output_type": "stream",
       "stream": "stdout",
       "text": [
        "<svg baseProfile=\"full\" height=\"600px\" version=\"1.1\" width=\"800px\" xmlns=\"http://www.w3.org/2000/svg\" xmlns:ev=\"http://www.w3.org/2001/xml-events\" xmlns:xlink=\"http://www.w3.org/1999/xlink\"><defs /><rect fill=\"rgb(255,255,0)\" height=\"100px\" stroke=\"black\" stroke-width=\"1\" width=\"200px\" x=\"0\" y=\"0\" /><text x=\"210\" y=\"110\">Hello World</text></svg>\n"
       ]
      }
     ],
     "prompt_number": 2
    },
    {
     "cell_type": "code",
     "collapsed": false,
     "input": [
      "from IPython.display import SVG\n",
      "import json\n",
      "\n",
      "chord_file = open('data/chords/A.json')\n",
      "chord_data = json.load(chord_file)\n",
      "\n",
      "default_fingering = chord_data['fingerings'][0]\n",
      "\n",
      "svg_document = svgwrite.Drawing(\n",
      "    filename = \"A-1.svg\",\n",
      "    size = (\"600px\", \"800px\"))\n",
      "\n",
      "from collections import defaultdict\n",
      "\n",
      "def build_header():\n",
      "    \n",
      "    fret_matrix = defaultdict(list)\n",
      "    for idx, string in enumerate(default_fingering):\n",
      "        #\n",
      "        fret_matrix[string['fret']].append(idx + 1)\n",
      "    \n",
      "    \n",
      "    print fret_matrix\n",
      "    frets = sorted([int(k) for k in fret_matrix.keys() if not k in ('muted', 'open')])\n",
      "    print frets\n",
      "    \n",
      "    # Header\n",
      "    for muted in fret_matrix['muted']:\n",
      "        svg_document.add(svg_document.text(\"X\", insert=((6-muted) * 100, 20)))\n",
      "    for muted in fret_matrix['open']:\n",
      "        svg_document.add(svg_document.text(\"O\", insert=((6-muted) * 100, 20)))\n",
      "        \n",
      "    # Strings\n",
      "    for i in range(6):\n",
      "        svg_document.add(svg_document.line(\n",
      "            start=(i*100 + 1, 30), \n",
      "            end=(i*100 + 1, 400),\n",
      "            stroke_width = \"1\",\n",
      "            stroke = \"black\"))\n",
      "        \n",
      "    for fret in range(4):\n",
      "        svg_document.add(svg_document.line(\n",
      "            start=(1, fret*100 + 30), \n",
      "            end=(500, fret*100 + 30),\n",
      "            stroke_width = \"1\",\n",
      "            stroke = \"black\"))\n",
      "        \n",
      "        if str(fret+1) in fret_matrix:\n",
      "            for string_down in fret_matrix[str(fret+1)]:\n",
      "                svg_document.add(svg_document.circle(\n",
      "                    center=(string_down*100, 75 + fret * 100), r=30))\n",
      "        \n",
      "# add the header line\n",
      "build_header()\n",
      "\n",
      "SVG(svg_document.tostring())\n"
     ],
     "language": "python",
     "metadata": {},
     "outputs": [
      {
       "output_type": "stream",
       "stream": "stdout",
       "text": [
        "defaultdict(<type 'list'>, {u'muted': [6], u'2': [2, 3, 4], u'open': [1, 5]})\n",
        "[2]\n"
       ]
      },
      {
       "metadata": {},
       "output_type": "pyout",
       "prompt_number": 40,
       "svg": [
        "<svg baseProfile=\"full\" height=\"800px\" version=\"1.1\" width=\"600px\" xmlns=\"http://www.w3.org/2000/svg\" xmlns:ev=\"http://www.w3.org/2001/xml-events\" xmlns:xlink=\"http://www.w3.org/1999/xlink\"><defs/><text x=\"0\" y=\"20\">X</text><text x=\"500\" y=\"20\">O</text><text x=\"100\" y=\"20\">O</text><line stroke=\"black\" stroke-width=\"1\" x1=\"1\" x2=\"1\" y1=\"30\" y2=\"400\"/><line stroke=\"black\" stroke-width=\"1\" x1=\"101\" x2=\"101\" y1=\"30\" y2=\"400\"/><line stroke=\"black\" stroke-width=\"1\" x1=\"201\" x2=\"201\" y1=\"30\" y2=\"400\"/><line stroke=\"black\" stroke-width=\"1\" x1=\"301\" x2=\"301\" y1=\"30\" y2=\"400\"/><line stroke=\"black\" stroke-width=\"1\" x1=\"401\" x2=\"401\" y1=\"30\" y2=\"400\"/><line stroke=\"black\" stroke-width=\"1\" x1=\"501\" x2=\"501\" y1=\"30\" y2=\"400\"/><line stroke=\"black\" stroke-width=\"1\" x1=\"1\" x2=\"500\" y1=\"30\" y2=\"30\"/><line stroke=\"black\" stroke-width=\"1\" x1=\"1\" x2=\"500\" y1=\"130\" y2=\"130\"/><circle cx=\"200\" cy=\"175\" r=\"30\"/><circle cx=\"300\" cy=\"175\" r=\"30\"/><circle cx=\"400\" cy=\"175\" r=\"30\"/><line stroke=\"black\" stroke-width=\"1\" x1=\"1\" x2=\"500\" y1=\"230\" y2=\"230\"/><line stroke=\"black\" stroke-width=\"1\" x1=\"1\" x2=\"500\" y1=\"330\" y2=\"330\"/></svg>"
       ],
       "text": [
        "<IPython.core.display.SVG at 0x10635fe10>"
       ]
      }
     ],
     "prompt_number": 40
    }
   ],
   "metadata": {}
  }
 ]
}